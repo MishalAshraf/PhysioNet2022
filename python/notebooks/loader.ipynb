{
 "cells": [
  {
   "cell_type": "code",
   "execution_count": 147,
   "id": "7843eafa",
   "metadata": {},
   "outputs": [],
   "source": [
    "import os\n",
    "import glob\n",
    "import numpy as np\n",
    "import pandas as pd\n",
    "from scipy.io import wavfile\n",
    "import matplotlib.pyplot as plt\n",
    "\n",
    "root = os.path.join('..', '..', 'data')\n",
    "\n",
    "class AutoVivification(dict):\n",
    "    \"\"\"\n",
    "    Allows dynamic creation of dict keys upon query.\n",
    "    If key queried does not exist, creates empty dict under it.\n",
    "    \"\"\"\n",
    "\n",
    "    def __getitem__(self, item):\n",
    "        try:\n",
    "            return dict.__getitem__(self, item)\n",
    "        except KeyError:\n",
    "            value = self[item] = type(self)()\n",
    "            return value\n",
    "\n",
    "class Dataset():\n",
    "    def __init__(self, root_dir):\n",
    "        \"\"\"\"\"\"\n",
    "        # Constructs database as dictionary of paths\n",
    "        db = AutoVivification()\n",
    "        for path in glob.glob(os.path.join(root_dir, 'training_data', '*')):\n",
    "            base = os.path.basename(path)\n",
    "            filename, extension = os.path.splitext(base)\n",
    "            if extension == '.txt':\n",
    "                patient = filename\n",
    "                db[patient]['txt'] = path\n",
    "            elif extension in ('.hea', '.tsv', '.wav'):\n",
    "                basesplit = base.split('_')\n",
    "                if len(basesplit) == 2:\n",
    "                    patient, valvename = filename.split('_')\n",
    "                    db[patient]['recordings'][valvename]['0'] = path\n",
    "                else:\n",
    "                    patient, valvename, valveid = filename.split('_')\n",
    "                    db[patient]['recordings'][valvename][valveid] = path\n",
    "            else:\n",
    "                raise RuntimeError(f\"Unexpected file type: {base}\")\n",
    "        self.db = db\n",
    "        \n",
    "        # Loads metadata CSV\n",
    "        self.meta = pd.read_csv(os.path.join(root_dir, 'training_data.csv'), index_col=0)\n",
    "        \n",
    "    def get_patient(self, patient):\n",
    "        return Patient(patient, self.db[str(patient)], self.meta.loc[int(patient), :])\n",
    "    \n",
    "    def __iter__(self):\n",
    "        for patient in sorted(db):\n",
    "            yield Patient(patient, self.db[str(patient)], self.meta.loc[int(patient), :])\n",
    "    \n",
    "class Patient():\n",
    "    def __init__(self, uid, db, meta):\n",
    "        self.uid = uid\n",
    "        # \n",
    "        for k, v in dict(meta).items():\n",
    "            setattr(self, k, v)\n",
    "        # \n",
    "        with open(db['txt']) as f:\n",
    "            self.info = f.readlines()\n",
    "        # \n",
    "        self.recordings = dict()\n",
    "        for valvename in db['recordings']:\n",
    "            self.recordings[valvename] = dict()\n",
    "            for valveid in db['recordings'][valvename]:\n",
    "                self.recordings[valvename][valveid] = dict()\n",
    "                samplerate, data = wavfile.read(db['recordings'][valvename][valveid])\n",
    "                self.recordings[valvename][valveid]['samplerate'] = samplerate\n",
    "                self.recordings[valvename][valveid]['data'] = data\n",
    "        \n",
    "    def __str__(self):\n",
    "        for attr in dir(self):\n",
    "            if not(attr.startswith('_')):\n",
    "                print(attr, ':', getattr(self, attr))\n",
    "                \n",
    "    def show_trace(self, valvename, valveid):\n",
    "        N = self.recordings[valvename][valveid]['data'].shape[0]\n",
    "        T = 1 / self.recordings[valvename][valveid]['samplerate']\n",
    "        time = T * np.arange(0, N)\n",
    "        plt.plot(time, self.recordings[valvename][valveid]['data'])\n",
    "        plt.xlabel('Time (s)')\n",
    "        plt.ylabel('AU')\n",
    "        plt.grid()\n",
    "        plt.title(f'Patient {self.uid}: {valvename} Valve (Recording {valveid})')"
   ]
  },
  {
   "cell_type": "code",
   "execution_count": 148,
   "id": "12a95338",
   "metadata": {},
   "outputs": [
    {
     "data": {
      "image/png": "[encoded data removed]",
      "text/plain": [
       "<Figure size 432x288 with 1 Axes>"
      ]
     },
     "metadata": {
      "needs_background": "light"
     },
     "output_type": "display_data"
    }
   ],
   "source": [
    "# Instantiating the dataset\n",
    "dataset = Dataset(root)\n",
    "\n",
    "# Loading a patient\n",
    "patient = dataset.get_patient('13918')\n",
    "\n",
    "# Plotting one heart trace\n",
    "patient.show_trace('AV', '0')"
   ]
  },
  {
   "cell_type": "code",
   "execution_count": null,
   "id": "5f190554",
   "metadata": {},
   "outputs": [],
   "source": []
  }
 ],
 "metadata": {
  "kernelspec": {
   "display_name": "Python 3 (ipykernel)",
   "language": "python",
   "name": "python3"
  },
  "language_info": {
   "codemirror_mode": {
    "name": "ipython",
    "version": 3
   },
   "file_extension": ".py",
   "mimetype": "text/x-python",
   "name": "python",
   "nbconvert_exporter": "python",
   "pygments_lexer": "ipython3",
   "version": "3.9.6"
  }
 },
 "nbformat": 4,
 "nbformat_minor": 5
}
